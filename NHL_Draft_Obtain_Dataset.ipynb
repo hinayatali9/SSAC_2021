{
  "nbformat": 4,
  "nbformat_minor": 0,
  "metadata": {
    "colab": {
      "provenance": []
    },
    "kernelspec": {
      "name": "python3",
      "display_name": "Python 3"
    },
    "language_info": {
      "name": "python"
    }
  },
  "cells": [
    {
      "cell_type": "code",
      "metadata": {
        "id": "F4xXT5Kz7Ctt"
      },
      "source": [
        "import requests\n",
        "import bs4\n",
        "import lxml\n",
        "import lxml.html as lh\n",
        "import csv\n",
        "from csv import writer\n",
        "from csv import reader\n",
        "import pandas as pd"
      ],
      "execution_count": null,
      "outputs": []
    },
    {
      "cell_type": "code",
      "metadata": {
        "id": "RLhFvqLe7YjR"
      },
      "source": [
        "fileName='Draft_Trades.csv'\n",
        "with open(fileName, 'w', newline='') as csvfile:\n",
        "  fields=['Team 1','Team 2', 'Draft Pick # Team 1', 'Draft Pick # Team 2']\n",
        "  csvwriter = csv.writer(csvfile)\n",
        "  csvwriter.writerow(fields)\n",
        "  listOfProperTrades=[]\n",
        "  year=1981\n",
        "  while year>1963:\n",
        "    year-=1\n",
        "    res=requests.get('https://www.prosportstransactions.com/hockey/DraftTrades/Years/' + str(year) +'.htm')\n",
        "    soup=bs4.BeautifulSoup(res.content.decode(),'lxml')\n",
        "    hi=soup.find_all(\"p\", class_=\"bodyCopySm\")\n",
        "    counter=0\n",
        "    for i in hi:\n",
        "      counter=0\n",
        "      for j in i:\n",
        "        counter=0\n",
        "        for k in j:\n",
        "          if k=='•' and counter!=-1:\n",
        "            counter=1\n",
        "          elif counter==1 and k==' ':\n",
        "            counter+=1\n",
        "          elif counter==2:\n",
        "            if k.isnumeric():\n",
        "              counter=0\n",
        "            else:\n",
        "              counter=-1\n",
        "      if counter!=-1:\n",
        "        listOfProperTrades.append(j)"
      ],
      "execution_count": null,
      "outputs": []
    },
    {
      "cell_type": "code",
      "metadata": {
        "id": "vzeaclRT5tDx",
        "colab": {
          "base_uri": "https://localhost:8080/"
        },
        "outputId": "9d0b57bd-43cd-46cf-eda0-9092d1a5e916"
      },
      "source": [
        "for i in listOfProperTrades:\n",
        "    if \"Traded •\" not in i:\n",
        "      listOfProperTrades.remove(i)\n",
        "\n",
        "finalTradeList=[]\n",
        "for i in listOfProperTrades:\n",
        "  if i not in finalTradeList:\n",
        "    finalTradeList.append(i)\n",
        "\n",
        "print(len(listOfProperTrades))"
      ],
      "execution_count": null,
      "outputs": [
        {
          "output_type": "stream",
          "name": "stdout",
          "text": [
            "48\n"
          ]
        }
      ]
    },
    {
      "cell_type": "code",
      "metadata": {
        "colab": {
          "base_uri": "https://localhost:8080/"
        },
        "id": "qYw8FMtjPW8p",
        "outputId": "5b758ff4-4a1e-4f6d-ecbf-7f7147c8ba41"
      },
      "source": [
        "import re\n",
        "lPicksTeam1=[]\n",
        "lPicksTeam2=[]\n",
        "lYear=[]\n",
        "x=True\n",
        "for i in listOfProperTrades:\n",
        "  r = i.split(\"for\")\n",
        "  counter=0\n",
        "  for j in r:\n",
        "    #print(j)\n",
        "    m = re.findall(r'#\\b\\d{3}\\b', j)\n",
        "    n = re.findall(r'#\\b\\d{2}\\b', j)\n",
        "    o = re.findall(r'\\d{4} ', j)\n",
        "    if x==True:\n",
        "      lPicksTeam1.append(m+n)\n",
        "      temp1=o\n",
        "      x=False\n",
        "    else:\n",
        "      lPicksTeam2.append(m+n)\n",
        "      lYear.append(temp1+o)\n",
        "      x=True\n",
        "print(lPicksTeam1)\n",
        "print(lPicksTeam2)\n",
        "print(lYear)\n",
        ""
      ],
      "execution_count": null,
      "outputs": [
        {
          "output_type": "stream",
          "text": [
            "[['#22'], ['#16', '#21'], ['#16', '#21'], ['#60'], ['#48'], ['#18'], ['#52'], [], ['#28'], [], ['#16', '#21'], ['#10', '#30'], ['#48'], ['#56'], [], ['#16', '#21'], ['#18'], ['#22'], ['#10', '#30'], ['#56'], ['#48'], [], ['#18'], []]\n",
            "[['#27'], ['#10', '#30'], ['#10', '#30'], ['#52'], ['#56'], ['#22'], ['#60'], [], ['#18'], ['#10', '#30'], ['#16', '#21'], ['#56'], ['#48'], [], ['#10', '#30'], ['#28'], [], ['#18'], ['#16', '#21'], ['#48'], ['#56'], ['#168'], ['#28']]\n",
            "[['1979 ', '1978 '], ['1973 ', '1973 ', '1973 ', '1973 ', '1977 ', '1978 '], ['1973 ', '1973 ', '1973 ', '1973 ', '1977 ', '1978 '], ['1975 ', '1976 '], ['1973 ', '1973 ', '1973 ', '1973 ', '1975 '], ['1973 ', '1975 '], ['1976 ', '1975 '], ['1973 ', '1974 '], ['1972 ', '1973 ', '1973 '], ['1968 ', '1973 ', '1977 ', '1978 '], ['1973 ', '1973 ', '1973 ', '1973 ', '1973 ', '1973 '], ['1973 ', '1977 ', '1978 ', '1973 ', '1973 ', '1975 '], ['1973 ', '1973 ', '1973 ', '1973 '], ['1973 ', '1973 ', '1975 ', '1974 '], ['1973 ', '1973 ', '1977 ', '1978 '], ['1973 ', '1973 ', '1973 ', '1972 '], ['1973 ', '1973 ', '1968 '], ['1975 ', '1973 '], ['1973 ', '1977 ', '1978 ', '1973 ', '1973 ', '1973 '], ['1973 ', '1973 ', '1975 ', '1973 ', '1973 '], ['1973 ', '1973 ', '1973 ', '1973 ', '1975 '], ['1973 ', '1973 '], ['1973 ', '1973 ', '1972 ']]\n"
          ],
          "name": "stdout"
        }
      ]
    },
    {
      "cell_type": "code",
      "metadata": {
        "id": "u2n7Kw8L1A9f"
      },
      "source": [
        "for i in lPicksTeam1:\n",
        "  for j in i:\n",
        "    temp=i.index(j)\n",
        "    j=j.strip('#')\n",
        "    i[temp]=j\n",
        "\n",
        "for i in lPicksTeam2:\n",
        "  for j in i:\n",
        "    temp=i.index(j)\n",
        "    j=j.strip('#')\n",
        "    i[temp]=j\n",
        "\n",
        "for i in lYear:\n",
        "  for j in i:\n",
        "    temp=i.index(j)\n",
        "    j=j.strip()\n",
        "    i[temp]=j"
      ],
      "execution_count": null,
      "outputs": []
    },
    {
      "cell_type": "code",
      "metadata": {
        "colab": {
          "base_uri": "https://localhost:8080/"
        },
        "id": "JQeKEF45O1ZF",
        "outputId": "251663be-596c-493a-a113-990d36c37b75"
      },
      "source": [
        "print(len(lPicksTeam1))\n",
        "print(len(lPicksTeam2))\n",
        "print(len(lYear))"
      ],
      "execution_count": null,
      "outputs": [
        {
          "output_type": "stream",
          "text": [
            "24\n",
            "23\n",
            "23\n"
          ],
          "name": "stdout"
        }
      ]
    },
    {
      "cell_type": "code",
      "metadata": {
        "colab": {
          "base_uri": "https://localhost:8080/",
          "height": 292
        },
        "id": "hM0FG3x_M3Kh",
        "outputId": "da85962c-b1a7-4e88-93ee-e1cb2118e169"
      },
      "source": [
        "print(lPicksTeam1)\n",
        "print(lPicksTeam2)\n",
        "print()\n",
        "counter=0\n",
        "while counter<len(lPicksTeam1)-1:\n",
        "  numChecker=0\n",
        "  x=True\n",
        "  indices = [i for i, x in enumerate(lPicksTeam2) if x == lPicksTeam1[counter]]\n",
        "  #print(indices)\n",
        "  for i in indices:\n",
        "    #print(lPicksTeam1[counter])\n",
        "    #print(lPicksTeam2[i-numChecker])\n",
        "    if lPicksTeam2[counter]==lPicksTeam1[i-numChecker]:\n",
        "      lPicksTeam1.pop(i-numChecker)\n",
        "      lPicksTeam2.pop(i-numChecker)\n",
        "      lYear.pop(i-numChecker)\n",
        "    numChecker+=1\n",
        "  counter+=1\n",
        "\n",
        "print(lPicksTeam1)\n",
        "print(lPicksTeam2)"
      ],
      "execution_count": null,
      "outputs": [
        {
          "output_type": "stream",
          "text": [
            "[['22'], ['16', '21'], ['16', '21'], ['60'], ['48'], ['18'], ['52'], [], ['28'], [], ['16', '21'], ['10', '30'], ['48'], ['56'], [], ['16', '21'], ['18'], ['22'], ['10', '30'], ['56'], ['48'], [], ['18'], []]\n",
            "[['27'], ['10', '30'], ['10', '30'], ['52'], ['56'], ['22'], ['60'], [], ['18'], ['10', '30'], ['16', '21'], ['56'], ['48'], [], ['10', '30'], ['28'], [], ['18'], ['16', '21'], ['48'], ['56'], ['168'], ['28']]\n",
            "\n"
          ],
          "name": "stdout"
        },
        {
          "output_type": "error",
          "ename": "IndexError",
          "evalue": "ignored",
          "traceback": [
            "\u001b[0;31m---------------------------------------------------------------------------\u001b[0m",
            "\u001b[0;31mIndexError\u001b[0m                                Traceback (most recent call last)",
            "\u001b[0;32m<ipython-input-72-d1327d2829ed>\u001b[0m in \u001b[0;36m<module>\u001b[0;34m()\u001b[0m\n\u001b[1;32m     11\u001b[0m     \u001b[0;31m#print(lPicksTeam1[counter])\u001b[0m\u001b[0;34m\u001b[0m\u001b[0;34m\u001b[0m\u001b[0;34m\u001b[0m\u001b[0m\n\u001b[1;32m     12\u001b[0m     \u001b[0;31m#print(lPicksTeam2[i-numChecker])\u001b[0m\u001b[0;34m\u001b[0m\u001b[0;34m\u001b[0m\u001b[0;34m\u001b[0m\u001b[0m\n\u001b[0;32m---> 13\u001b[0;31m     \u001b[0;32mif\u001b[0m \u001b[0mlPicksTeam2\u001b[0m\u001b[0;34m[\u001b[0m\u001b[0mcounter\u001b[0m\u001b[0;34m]\u001b[0m\u001b[0;34m==\u001b[0m\u001b[0mlPicksTeam1\u001b[0m\u001b[0;34m[\u001b[0m\u001b[0mi\u001b[0m\u001b[0;34m-\u001b[0m\u001b[0mnumChecker\u001b[0m\u001b[0;34m]\u001b[0m\u001b[0;34m:\u001b[0m\u001b[0;34m\u001b[0m\u001b[0;34m\u001b[0m\u001b[0m\n\u001b[0m\u001b[1;32m     14\u001b[0m       \u001b[0mlPicksTeam1\u001b[0m\u001b[0;34m.\u001b[0m\u001b[0mpop\u001b[0m\u001b[0;34m(\u001b[0m\u001b[0mi\u001b[0m\u001b[0;34m-\u001b[0m\u001b[0mnumChecker\u001b[0m\u001b[0;34m)\u001b[0m\u001b[0;34m\u001b[0m\u001b[0;34m\u001b[0m\u001b[0m\n\u001b[1;32m     15\u001b[0m       \u001b[0mlPicksTeam2\u001b[0m\u001b[0;34m.\u001b[0m\u001b[0mpop\u001b[0m\u001b[0;34m(\u001b[0m\u001b[0mi\u001b[0m\u001b[0;34m-\u001b[0m\u001b[0mnumChecker\u001b[0m\u001b[0;34m)\u001b[0m\u001b[0;34m\u001b[0m\u001b[0;34m\u001b[0m\u001b[0m\n",
            "\u001b[0;31mIndexError\u001b[0m: list index out of range"
          ]
        }
      ]
    },
    {
      "cell_type": "code",
      "metadata": {
        "colab": {
          "base_uri": "https://localhost:8080/"
        },
        "id": "R360FKr0GskP",
        "outputId": "ed5f3d07-f828-498c-b8a6-c0020ab06268"
      },
      "source": [
        "print(len(lPicksTeam1))\n",
        "print(len(lPicksTeam2))\n",
        "print(len(lYear))"
      ],
      "execution_count": null,
      "outputs": [
        {
          "output_type": "stream",
          "text": [
            "14\n",
            "14\n",
            "14\n"
          ],
          "name": "stdout"
        }
      ]
    },
    {
      "cell_type": "code",
      "metadata": {
        "id": "1nC2AJMaNws8"
      },
      "source": [],
      "execution_count": null,
      "outputs": []
    },
    {
      "cell_type": "code",
      "metadata": {
        "id": "jOr8yND5MvUR"
      },
      "source": [
        "'''\n",
        "if i>len(lYear)-1:\n",
        "      break\n",
        "    if lPicksTeam1[i] in lPicksTeam2 and lPicksTeam2[i] in lPicksTeam1:\n",
        "      num=lPicksTeam2.index(lPicksTeam1[i])\n",
        "      num2=lPicksTeam1.index(lPicksTeam2[i])\n",
        "      del lPicksTeam2[num]\n",
        "      del lPicksTeam1[num2]\n",
        "      del lYear[num]\n",
        "      i+=1\n",
        "'''"
      ],
      "execution_count": null,
      "outputs": []
    },
    {
      "cell_type": "code",
      "metadata": {
        "id": "_NuayRWdHe0D",
        "colab": {
          "base_uri": "https://localhost:8080/"
        },
        "outputId": "2c4302e8-745c-4bd8-af1c-a532cf8b46b3"
      },
      "source": [
        "fileName='Final_Draft_Trades_1980_1973.csv'\n",
        "with open(fileName, 'w', newline='') as csvfile:\n",
        "  fields=['Year','Team 1','Team 2']\n",
        "  csvwriter = csv.writer(csvfile)\n",
        "  csvwriter.writerow(fields)\n",
        "  fileFormatList=[]\n",
        "  x=\", \"\n",
        "  for i in range(len(lYear)-1):\n",
        "    csvwriter.writerow([x.join(lYear[i]),x.join(lPicksTeam1[i]),x.join(lPicksTeam2[i])])\n",
        "print(lPicksTeam1)\n",
        "print(lPicksTeam2)"
      ],
      "execution_count": null,
      "outputs": [
        {
          "output_type": "stream",
          "text": [
            "[['22'], ['16', '21'], ['16', '21'], ['60'], ['28'], [], ['10', '30'], ['56'], [], ['16', '21'], ['18'], ['22'], ['48'], []]\n",
            "[['27'], ['10', '30'], ['10', '30'], ['52'], ['18'], ['10', '30'], ['56'], [], ['10', '30'], ['28'], [], ['18'], ['56'], ['168']]\n"
          ],
          "name": "stdout"
        }
      ]
    }
  ]
}