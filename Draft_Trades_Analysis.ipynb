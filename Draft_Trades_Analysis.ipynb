{
  "nbformat": 4,
  "nbformat_minor": 0,
  "metadata": {
    "colab": {
      "name": "Draft_Trades_Analysis.ipynb",
      "provenance": [],
      "collapsed_sections": []
    },
    "kernelspec": {
      "name": "python3",
      "display_name": "Python 3"
    },
    "language_info": {
      "name": "python"
    }
  },
  "cells": [
    {
      "cell_type": "code",
      "metadata": {
        "id": "_0VOom4foueL"
      },
      "source": [
        "#Imports for reading the csv file\n",
        "import csv\n",
        "from csv import writer\n",
        "from csv import reader\n",
        "import pandas as pd"
      ],
      "execution_count": 1,
      "outputs": []
    },
    {
      "cell_type": "markdown",
      "source": [
        "Dividing Draft Trades into those involving picks from the current year and those involving both current and future picks."
      ],
      "metadata": {
        "id": "0jilJbjrMAQM"
      }
    },
    {
      "cell_type": "code",
      "metadata": {
        "colab": {
          "base_uri": "https://localhost:8080/"
        },
        "id": "KrrwmqoI_YD_",
        "outputId": "5144f6d5-a6e5-4541-e186-ea52ac3496d8"
      },
      "source": [
        "with open('Final_Draft_Trades.csv', 'r') as f:\n",
        "      reader = csv.reader(f)\n",
        "      f.readline()\n",
        "      listOfCurrentYearTrades=[] \n",
        "      listOfDifferentYearTrades=[]\n",
        "      for row in reader:\n",
        "        counter=0\n",
        "        for i in row:\n",
        "          newLine=i.split(', ')\n",
        "          for i in newLine:\n",
        "            if counter==0:\n",
        "              result = all(element == newLine[0] for element in newLine) #Checks if the trade involves only current picks or current and future picks\n",
        "              if result:\n",
        "                listOfCurrentYearTrades.append(row)\n",
        "              else:\n",
        "                listOfDifferentYearTrades.append(row)\n",
        "              counter+=1\n",
        "\n",
        "print(len(listOfCurrentYearTrades))\n",
        "print(len(listOfDifferentYearTrades))"
      ],
      "execution_count": 3,
      "outputs": [
        {
          "output_type": "stream",
          "name": "stdout",
          "text": [
            "191\n",
            "165\n"
          ]
        }
      ]
    },
    {
      "cell_type": "markdown",
      "source": [
        "Splitting current year trades into a list of draft picks used to trade up and to trade down."
      ],
      "metadata": {
        "id": "XwZW2EmWMce8"
      }
    },
    {
      "cell_type": "code",
      "metadata": {
        "id": "mbh4kaSBj6E8"
      },
      "source": [
        "valueForTradePart1=[] #Lists with the integer values for each draft pick\n",
        "valueForTradePart2=[]\n",
        "temp=[]\n",
        "tradingUp=[] #List to check statistics on trading up and trading down \n",
        "tradingDown=[]\n",
        "tradingUpPicks=[] #List of picks used to trade up\n",
        "tradingDownPicks=[] #List of picks used to trade down\n",
        "for i in listOfCurrentYearTrades:\n",
        "  valueForTradePart1.append(i[1].split(', '))\n",
        "  valueForTradePart2.append(i[2].split(', '))\n",
        "for i in range(len(valueForTradePart1)):\n",
        "  temp=[]\n",
        "  for j in range(len(valueForTradePart1[i])):\n",
        "    valueForTradePart1[i][j]=int(valueForTradePart1[i][j])\n",
        "    temp.append(valueForTradePart1[i][j])\n",
        "  for k in range(len(valueForTradePart2[i])):\n",
        "    valueForTradePart2[i][k]=int(valueForTradePart2[i][k])\n",
        "    temp.append(valueForTradePart2[i][k])\n",
        "  highestPick=min(temp) #Determines which pick is the highest in the trade to determine which side of the trade is trading up or trading down\n",
        "  if highestPick in valueForTradePart2[i]:\n",
        "    tradingUp.append(len(valueForTradePart2[i]))\n",
        "    tradingDown.append(len(valueForTradePart1[i]))\n",
        "    tradingDownPicks.append(valueForTradePart2[i])\n",
        "    tradingUpPicks.append(valueForTradePart1[i])\n",
        "  else:\n",
        "    tradingUp.append(len(valueForTradePart1[i]))\n",
        "    tradingDown.append(len(valueForTradePart2[i]))\n",
        "    tradingDownPicks.append(valueForTradePart1[i])\n",
        "    tradingUpPicks.append(valueForTradePart2[i])"
      ],
      "execution_count": 4,
      "outputs": []
    },
    {
      "cell_type": "markdown",
      "source": [
        "Key statistics on trading up and trading down for draft picks."
      ],
      "metadata": {
        "id": "Xj15rxlANF_X"
      }
    },
    {
      "cell_type": "code",
      "metadata": {
        "colab": {
          "base_uri": "https://localhost:8080/"
        },
        "id": "XEr37zm403XA",
        "outputId": "843ffaef-16f9-4e0c-946d-02fd62ae8035"
      },
      "source": [
        "import numpy as np\n",
        "import statistics\n",
        "dictDifferentTypesOfTrades={}\n",
        "#Classifying the types of current year trades\n",
        "for i in range(len(tradingUpPicks)):\n",
        "  if len(tradingUpPicks[i])>len(tradingDownPicks[i]):\n",
        "    typeOfTrade=(len(tradingUpPicks[i]),len(tradingDownPicks[i]))\n",
        "  else:\n",
        "    typeOfTrade=(len(tradingDownPicks[i]),len(tradingUpPicks[i]))\n",
        "  if typeOfTrade==(1,1):\n",
        "    print(tradingDownPicks[i],tradingUpPicks[i])\n",
        "  if typeOfTrade in dictDifferentTypesOfTrades:\n",
        "    dictDifferentTypesOfTrades[typeOfTrade]+=1\n",
        "  else:\n",
        "    dictDifferentTypesOfTrades[typeOfTrade]=1\n",
        "#Statistics on current year trades\n",
        "print(statistics.mean(tradingUp))\n",
        "print(statistics.mean(tradingDown))\n",
        "print(statistics.median(tradingUp))\n",
        "print(statistics.median(tradingDown))\n",
        "print(max(tradingUp))\n",
        "print(max(tradingDown))\n",
        "print(statistics.stdev(tradingUp))\n",
        "print(statistics.stdev(tradingDown))\n",
        "print(dictDifferentTypesOfTrades)"
      ],
      "execution_count": 7,
      "outputs": [
        {
          "output_type": "stream",
          "name": "stdout",
          "text": [
            "[247] [250]\n",
            "[245] [246]\n",
            "1.0732984293193717\n",
            "2.141361256544503\n",
            "1\n",
            "2\n",
            "2\n",
            "4\n",
            "0.26131068410820657\n",
            "0.3919132964888134\n",
            "{(2, 1): 151, (3, 1): 24, (2, 2): 10, (4, 2): 1, (3, 2): 3, (1, 1): 2}\n"
          ]
        }
      ]
    },
    {
      "cell_type": "code",
      "metadata": {
        "id": "O5ZpzXc2418P"
      },
      "source": [
        "#Imports required to analyze draft trades data\n",
        "import numpy, scipy, matplotlib\n",
        "import matplotlib.pyplot as plt\n",
        "from scipy.optimize import curve_fit\n",
        "from scipy.optimize import differential_evolution\n",
        "import warnings\n",
        "import math\n",
        "from math import log"
      ],
      "execution_count": 12,
      "outputs": []
    },
    {
      "cell_type": "markdown",
      "source": [
        "Isolating the top pick involved in the trade for the Weibull Distribution"
      ],
      "metadata": {
        "id": "xeV8ipI4ofvG"
      }
    },
    {
      "cell_type": "code",
      "metadata": {
        "colab": {
          "base_uri": "https://localhost:8080/"
        },
        "id": "f1m5fuGMyFTH",
        "outputId": "5b3c60a0-eb05-496e-d715-b95ea78d4753"
      },
      "source": [
        "topPicks=[]\n",
        "restOfPicks=[]\n",
        "for i in tradingDownPicks:\n",
        "  restOfPicksToBeAdded=[]\n",
        "  for j in i:\n",
        "    if j==min(i): #Isolates top pick involved in the trade\n",
        "      topPicks.append([j])\n",
        "    else:\n",
        "      restOfPicksToBeAdded.append(j) #If there are other picks when trading down, include them in a seperate list\n",
        "    if len(i)==1:\n",
        "      restOfPicks.append([-1]) #If there are no other picks, add a -1 (value 0 in a Weibull distribution)\n",
        "  if len(i)!=1:\n",
        "    restOfPicks.append(restOfPicksToBeAdded) #List of all lists of extra picks\n",
        "print(topPicks)\n",
        "print(restOfPicks)\n",
        "print(tradingUpPicks)"
      ],
      "execution_count": 13,
      "outputs": [
        {
          "output_type": "stream",
          "name": "stdout",
          "text": [
            "[[19], [22], [34], [44], [45], [64], [75], [93], [126], [134], [136], [138], [145], [11], [34], [37], [41], [50], [55], [59], [74], [91], [102], [81], [143], [22], [25], [58], [62], [74], [87], [102], [26], [35], [78], [102], [112], [185], [11], [18], [26], [24], [28], [29], [57], [60], [20], [28], [39], [62], [73], [89], [119], [18], [37], [39], [44], [57], [61], [14], [22], [24], [60], [77], [118], [22], [30], [47], [15], [59], [71], [112], [158], [16], [12], [21], [20], [29], [56], [74], [95], [7], [12], [21], [28], [38], [68], [74], [97], [16], [18], [21], [35], [116], [94], [143], [16], [25], [29], [66], [71], [75], [76], [88], [98], [104], [110], [161], [8], [12], [27], [45], [74], [4], [19], [20], [22], [37], [46], [50], [4], [63], [152], [16], [17], [25], [28], [43], [47], [78], [109], [174], [9], [14], [30], [52], [56], [74], [75], [86], [99], [11], [24], [60], [74], [94], [98], [106], [106], [74], [140], [98], [152], [140], [157], [152], [94], [38], [41], [97], [104], [114], [118], [121], [126], [151], [1], [28], [44], [45], [247], [2], [27], [2], [8], [41], [79], [38], [82], [245], [21], [28], [58], [71], [31], [5], [12], [85], [11], [4], [3]]\n",
            "[[-1], [-1], [-1], [-1], [-1], [-1], [-1], [-1], [-1], [-1], [-1], [-1], [-1], [-1], [-1], [-1], [-1], [-1], [-1], [-1], [-1], [-1], [-1], [-1], [-1], [-1], [-1], [-1], [-1], [-1], [-1], [-1], [-1], [-1], [-1], [-1], [-1], [-1], [-1], [79], [-1], [-1], [-1], [-1], [-1], [-1], [179], [-1], [-1], [-1], [-1], [-1], [-1], [-1], [-1], [-1], [-1], [-1], [-1], [-1], [-1], [-1], [-1], [-1], [-1], [113], [-1], [-1], [-1], [-1], [-1], [-1], [-1], [77], [-1], [-1], [-1], [-1], [-1], [-1], [-1], [-1], [-1], [-1], [-1], [-1], [-1], [-1], [-1], [-1], [-1], [-1], [-1], [-1], [-1], [-1], [-1], [-1], [152], [-1], [-1], [-1], [-1], [-1], [-1], [-1], [-1], [-1], [-1], [-1], [-1], [-1], [-1], [-1], [247], [-1], [153], [-1], [-1], [-1], [-1], [-1], [-1], [-1], [-1], [-1], [-1], [-1], [-1], [-1], [-1], [-1], [-1], [-1], [-1], [-1], [-1], [-1], [-1], [-1], [-1], [-1], [-1], [-1], [-1], [-1], [-1], [-1], [-1], [-1], [-1], [-1], [-1], [-1], [-1], [-1], [-1], [-1], [-1], [-1], [-1], [-1], [-1], [-1], [-1], [-1], [-1], [-1], [-1], [93], [-1], [85], [-1], [85], [94], [-1], [-1], [-1], [-1], [-1], [-1], [-1], [-1], [-1], [-1], [-1], [36], [-1], [32], [-1], [45]]\n",
            "[[22, 71], [24, 79], [38, 99], [58, 63], [50, 96], [151, 69], [125, 99], [115, 146], [195, 205], [201, 208], [152, 211], [148, 210], [162, 193], [14, 45], [45, 65], [44, 83], [48, 82], [126, 64], [82, 91], [73, 99], [151, 207, 98], [118, 129], [122, 175], [104, 114], [177, 191], [26, 48], [29, 76], [146, 64], [133, 71], [142, 87], [114, 145], [123, 139], [29, 70], [108, 44, 75], [126, 82], [123, 174], [135, 181], [205, 214], [12, 80], [22, 36], [28, 87], [29, 61], [33, 72], [34, 68], [113, 62], [76, 83], [27, 62], [35, 57], [44, 74], [102, 72], [117, 87], [104, 118], [140, 142], [20, 58], [57, 88, 96], [42, 73], [50, 89], [113, 83, 94], [114, 127, 84], [21, 42], [30, 39], [35, 48], [100, 70], [107, 96], [132, 193], [27, 57], [35, 58], [109, 49], [19, 59], [69, 99], [109, 77], [116, 146], [169, 199], [26, 37, 62, 92], [181, 16, 77], [26, 37], [23, 84], [32, 75], [62, 92], [107, 84], [117, 119, 202], [9, 40], [17, 28], [23, 54], [35, 39], [46, 76], [102, 72], [101, 81], [107, 137], [19, 42], [24, 70], [30, 36], [38, 69], [139, 147], [128, 129, 149], [155, 169], [20, 53], [30, 77], [41, 47], [109, 79], [126, 98], [200, 80], [111, 99], [115, 119], [108, 173], [114, 144], [141, 171], [188, 196], [207, 12, 49], [16, 41], [47, 52], [56, 66], [87, 96], [8, 59], [24, 46], [22, 88], [28, 52, 91], [50, 73], [70, 98], [60, 80], [8, 59], [129, 288, 94], [201, 234], [107, 21, 66], [22, 68], [192, 34, 41], [36, 54], [50, 75], [143, 173, 97], [125, 91], [123, 217], [210, 213], [10, 99], [245, 15], [41, 96], [162, 60], [165, 62], [159, 90], [127, 81], [128, 93], [112, 141], [14, 41], [44, 48], [81, 94], [139, 79], [218, 99], [110, 146, 208], [119, 186, 216], [119, 186, 216], [139, 79], [155, 234, 279], [110, 146, 208], [184, 188], [155, 234, 279], [164, 226], [184, 188], [218, 99], [64, 95], [49, 74], [108, 147, 244], [112, 143], [124, 146], [156, 157], [151, 193], [171, 210, 287], [201, 206], [4, 75, 88], [32, 96], [201, 48], [54, 61], [250], [3, 29], [39, 57], [3, 29], [10, 69, 126], [111, 55], [106, 107, 118], [58, 66], [136, 93], [246], [31, 46], [41, 49], [70, 90], [107, 77, 91], [41, 67], [8, 32], [17, 27], [190, 96], [20, 24, 29], [6, 48], [5, 26]]\n"
          ]
        }
      ]
    },
    {
      "cell_type": "markdown",
      "source": [
        "MPE Minimization Function and Parameter Estimation"
      ],
      "metadata": {
        "id": "zGMmSOZPou2j"
      }
    },
    {
      "cell_type": "code",
      "metadata": {
        "colab": {
          "base_uri": "https://localhost:8080/"
        },
        "id": "JAf6SwIwlHVX",
        "outputId": "e3aa0c30-fb1d-4ce0-bebb-eab082c2c55b"
      },
      "source": [
        "import math\n",
        "def equation(a, b, tradingUpData,tradingDownData): #Function to determine the estimated top pick using the estimated value of the other picks involved in the trade\n",
        "  sumTradingUp=0\n",
        "  sumTradingDown=0\n",
        "  for i in tradingUpData:\n",
        "    sumTradingUp+=math.exp(-a*((i-1)**b))\n",
        "  for i in tradingDownData:\n",
        "    if i!=-1:\n",
        "      sumTradingDown+=math.exp(-a*((i-1)**b))\n",
        "  return ((-1/a)*math.log(sumTradingUp-sumTradingDown))**(1/b)+1\n",
        "\n",
        "graphX=[]\n",
        "graphY=[]\n",
        "def averageError(lamb, beta, tradingUpList, tradingDownList): #Function to determine the Mean Percent Error of the Weibull Distribution given a set of parameters\n",
        "    outliers=[]\n",
        "    newListDiff=0\n",
        "    for i in range(len(tradingUpList)):\n",
        "      foundValue=equation(lamb,beta,tradingUpList[i],tradingDownList[i])\n",
        "      graphX.append(foundValue)\n",
        "      graphY.append(math.exp(-lamb*((topPicks[i][0]-1)**beta)))\n",
        "      #print(topPicks[i][0])\n",
        "      outliers.append(abs(topPicks[i][0]-foundValue)/topPicks[i][0])\n",
        "    newListDiff=statistics.mean(outliers)\n",
        "    return (newListDiff,graphX,graphY)\n",
        "\n",
        "minVal=10000000\n",
        "lambVal=0.1 #Starting Lambda Value\n",
        "betaVal=0.5 #Starting Beta Value\n",
        "storedLamb=0\n",
        "storedBeta=0\n",
        "while lambVal<0.35: #Lambda Limits determined using the parameters found in Thaler and Massey's paper\n",
        "  betaVal=0.5\n",
        "  while betaVal<0.7: #Beta Limits determined using the parameters found in Thaler and Massey's paper\n",
        "    temp=averageError(lambVal, betaVal, tradingUpPicks, restOfPicks)\n",
        "    if isinstance(temp[0], complex)==False: #Removal of all complex MPEs\n",
        "      if temp[0]<minVal:\n",
        "        minVal=temp[0]\n",
        "        storedLamb=lambVal\n",
        "        storedBeta=betaVal\n",
        "    betaVal+=0.001#Increase of beta value by 0.001 given a lambda value\n",
        "  lambVal+=0.001#Increase of beta value by 0.001 to loop through again\n",
        "print(storedLamb)\n",
        "print(storedBeta)\n",
        "\n",
        "lamb=0.304 #Minimization of MPE function yields these values of lambda and beta\n",
        "beta=0.581\n",
        "tempList=averageError(lamb,beta,tradingUpPicks, restOfPicks)\n",
        "sSquared=tempList[0] #Mean Percent Error\n",
        "graphX=tempList[1] #Estimated Top Pick given the value of the remaining draft picks involved in the trade\n",
        "graphY=tempList[2]\n",
        "print(sSquared)\n",
        "print(graphX) \n",
        "print(graphY)"
      ],
      "execution_count": 14,
      "outputs": [
        {
          "output_type": "stream",
          "name": "stdout",
          "text": [
            "0.09914023847424935\n",
            "[19.00986061717873, 21.249106873700477, 34.44324570060573, 40.35549993291682, 43.62734958356459, 65.06511992365179, 83.19545289641862, 99.08850489607536, 165.07946909318912, 169.3612036489883, 139.84762385117352, 136.6735804945515, 142.1727926459164, 10.53618787053158, 34.17752562799846, 37.223844440500265, 39.861299555099585, 58.46429519091565, 62.50278539661604, 60.013061809527336, 85.96321403227239, 95.21149627346796, 110.70326208068926, 82.30369987553875, 150.09092597587818, 18.887134137361304, 25.026566507336, 60.344695993674655, 64.93399984639657, 78.70622281788636, 98.17931322664344, 101.56867593719039, 24.36091957196512, 33.21348948245741, 72.18304617686456, 111.22869045003895, 121.24917247513338, 173.90773548867085, 10.94098842465004, 15.528860158832412, 25.155636151771073, 23.125436346484957, 27.587628076154626, 27.71101837504585, 55.196709890578084, 56.522264041130974, 22.11539954301057, 26.277089330004454, 35.60496015577177, 60.14620587255661, 73.52733349928101, 83.78417141700665, 111.3382956581634, 16.2630348867676, 41.44892110995273, 34.07491823101172, 42.522475277186125, 56.79903757294289, 64.01588615124555, 14.697750201216545, 18.876684954113173, 24.012958449504342, 58.37255880710145, 75.57337104997606, 121.51386326023395, 22.179653678805035, 26.497366855109185, 44.43545858204295, 15.609562178124293, 57.48675365977762, 65.08166041332282, 99.71608292483145, 148.32789121019835, 14.293086836885653, 14.222013260078628, 16.342740734693486, 20.72997218335967, 27.22884533757318, 51.30625465124352, 68.91638464737444, 87.6630634913864, 6.549433661214471, 9.628856519517266, 17.932613127040778, 21.163887458261822, 37.33365405473168, 60.14620587255661, 65.36085548151611, 91.55014758591702, 13.464932482156033, 20.515819240543088, 17.94407338893677, 30.63280109729651, 112.97909696330616, 89.65437017991297, 129.91279105340217, 15.695961245932958, 25.91275955823946, 27.266625278907316, 66.37423217179678, 82.86680151122076, 77.79184005571672, 78.60464131653042, 89.70560955957309, 99.74726055240737, 97.89875668595465, 122.54688669657483, 157.78922505723102, 9.394977817416317, 11.401960883034784, 31.19353263914995, 40.472405939730834, 66.8840292942973, 6.795587545005797, 17.32328884575914, 20.080088653197883, 19.614043986981585, 39.19342508029076, 57.87952736338729, 47.00338719591396, 6.795587545005797, 80.59495426129665, 178.96495681598634, 16.90961119267662, 18.75901037905448, 21.208582285034, 26.157967590048578, 39.68052684584931, 81.7934565037087, 78.13558631022691, 117.41957874757065, 175.93168912127175, 9.477930126909149, 14.957828546926729, 36.619357585464, 57.71958856545421, 59.68546631633528, 83.477403667876, 71.65360768807747, 80.18585246885633, 95.79916039305157, 10.0862173793354, 28.371512635145876, 63.07126083085945, 72.06969150784504, 96.14192901289331, 92.74791480058245, 106.2674042874577, 106.2674042874577, 72.06969150784504, 142.54148670469658, 92.74791480058245, 152.3870510161999, 142.54148670469658, 151.68983447056644, 152.3870510161999, 96.14192901289331, 53.29959997894447, 38.820329804353214, 93.17960906758024, 96.36203554057029, 104.53150729280006, 125.42153297504873, 135.08858800508602, 149.19942878278422, 168.495689189443, 3.3883139771130972, 29.16474749630842, 47.34569894571744, 42.82801015322939, 250.0, 2.001318391185836, 28.637528191036424, 2.001318391185836, 9.14095746841274, 49.48232696200839, 69.41352371356304, 41.46360359681054, 81.99174723356637, 245.99999999999994, 21.33151388833724, 27.33798766930439, 55.6965077840828, 52.71549188914596, 32.20275606699024, 5.194457811400048, 13.946493596484641, 91.65563928638377, 9.311137954503993, 4.756245389066274, 3.7143707082598203]\n",
            "[0.19593008544903834, 0.16818017344182662, 0.09846152574819984, 0.06697388039233879, 0.06458296592511518, 0.034213686832750834, 0.024577349601977737, 0.01491091973997023, 0.0065683757171927275, 0.005462088859079677, 0.005219780739956625, 0.004989622768812399, 0.004270183976814664, 0.31397556859695613, 0.09846152574819984, 0.0873100343017245, 0.0748543140835959, 0.05411714327349253, 0.04568483432549794, 0.04008276659360529, 0.025305069092951042, 0.01572823634915496, 0.011795777928151032, 0.020699363759051823, 0.004462965930874137, 0.16818017344182662, 0.14565238948050535, 0.04140026924411424, 0.03642657240440467, 0.025305069092951042, 0.01752623787822797, 0.011795777928151032, 0.13907092235773535, 0.09454811872034866, 0.022539359463968303, 0.011795777928151032, 0.00918337390992847, 0.0018525557783571854, 0.31397556859695613, 0.20664443042424882, 0.13907092235773535, 0.15266963994548668, 0.1270741713404357, 0.1215975869351136, 0.04277128268949751, 0.038816227170435987, 0.18599912661093423, 0.1270741713404357, 0.0807740327291315, 0.03642657240440467, 0.026058712605612534, 0.016598637515206346, 0.007750417923538484, 0.20664443042424882, 0.0873100343017245, 0.0807740327291315, 0.06697388039233879, 0.04277128268949751, 0.037598250368274785, 0.25944907479729473, 0.16818017344182662, 0.15266963994548668, 0.038816227170435987, 0.02319548175978402, 0.007938455916625762, 0.16818017344182662, 0.11643320964575166, 0.060115610337804944, 0.2444961961587026, 0.04008276659360529, 0.02764830274606975, 0.00918337390992847, 0.0032241531126610433, 0.23080913154551866, 0.29393449446671577, 0.17677208134919423, 0.18599912661093423, 0.1215975869351136, 0.04419851250491119, 0.025305069092951042, 0.014142917215905016, 0.4227589872015562, 0.29393449446671577, 0.17677208134919423, 0.1270741713404357, 0.08395997108922741, 0.030257049294936108, 0.025305069092951042, 0.01342076923908525, 0.23080913154551866, 0.20664443042424882, 0.17677208134919423, 0.09454811872034866, 0.008330486786473879, 0.014520977362731235, 0.004462965930874137, 0.23080913154551866, 0.14565238948050535, 0.1215975869351136, 0.03216186077610715, 0.02764830274606975, 0.024577349601977737, 0.023874490952432187, 0.017055016195682962, 0.013075887277663395, 0.011210708992376457, 0.009647342602569218, 0.0030259660758164514, 0.38999564006112125, 0.29393449446671577, 0.1328889655135942, 0.06458296592511518, 0.025305069092951042, 0.5623969759732026, 0.19593008544903834, 0.18599912661093423, 0.16818017344182662, 0.0873100343017245, 0.0622988673935377, 0.05411714327349253, 0.5623969759732026, 0.0352990570045117, 0.0036659748645825885, 0.23080913154551866, 0.21823463367614718, 0.14565238948050535, 0.1270741713404357, 0.06947803764230523, 0.060115610337804944, 0.022539359463968303, 0.00988944918032908, 0.002311506643083717, 0.3614683796333292, 0.25944907479729473, 0.11643320964575166, 0.050529944398377255, 0.04419851250491119, 0.025305069092951042, 0.024577349601977737, 0.018012876809186174, 0.012741297639676704, 0.31397556859695613, 0.15266963994548668, 0.038816227170435987, 0.025305069092951042, 0.014520977362731235, 0.013075887277663395, 0.010659052621016272, 0.010659052621016272, 0.025305069092951042, 0.0047709251064983775, 0.013075887277663395, 0.0036659748645825885, 0.0047709251064983775, 0.003293430081529221, 0.0036659748645825885, 0.014520977362731235, 0.08395997108922741, 0.0748543140835959, 0.01342076923908525, 0.011210708992376457, 0.008744960183864144, 0.007938455916625762, 0.007389474553760943, 0.0065683757171927275, 0.00374606019386186, 1.0, 0.1270741713404357, 0.06697388039233879, 0.06458296592511518, 0.0005829333310257454, 0.7378608664505911, 0.1328889655135942, 0.7378608664505911, 0.38999564006112125, 0.0748543140835959, 0.021905207556404394, 0.08395997108922741, 0.02012604663401865, 0.0006038413643443367, 0.17677208134919423, 0.1270741713404357, 0.04140026924411424, 0.02764830274606975, 0.11155761257215126, 0.5064888560405532, 0.29393449446671577, 0.01851553368337179, 0.31397556859695613, 0.5623969759732026, 0.6346070626872907]\n"
          ]
        }
      ]
    },
    {
      "cell_type": "markdown",
      "source": [
        "Use above Weibull Distribution Parameters to plot the top pick acquired versus the picks exchanged"
      ],
      "metadata": {
        "id": "xDh0k_UVpNu0"
      }
    },
    {
      "cell_type": "code",
      "metadata": {
        "colab": {
          "base_uri": "https://localhost:8080/",
          "height": 758
        },
        "id": "Ip7qqZZJyFjo",
        "outputId": "83f17ea2-4429-4f2e-ddd1-8fdd8609c3b0"
      },
      "source": [
        "import matplotlib.pyplot as plt\n",
        "import numpy as np\n",
        "import math\n",
        "from matplotlib.pyplot import figure\n",
        "from sklearn.metrics import r2_score\n",
        "\n",
        "figure(figsize=(10, 10), dpi=80)\n",
        "x=np.array(range(250))\n",
        "y=[]\n",
        "calculatingRScore=[]\n",
        "for i in x:\n",
        "    y.append(math.exp(-lamb*((i-1)**beta))) #Proposed Weibull Distribution versus draft position\n",
        "plt.style.use('seaborn-whitegrid')\n",
        "plt.plot(x,y,'b')\n",
        "plt.scatter(graphX, graphY, marker=\"1\") #Value of Picks Exchanged for Top Pick versus Draft Position\n",
        "plt.grid(alpha=.4,linestyle='--')\n",
        "plt.title('Draft Pick Value Versus Draft Position', fontsize=16)\n",
        "plt.xlabel('Draft Position', fontsize=14)\n",
        "plt.ylabel('Pick Value', fontsize=14)\n",
        "plt.legend(['Top pick acquired (all possible)','Picks exchanged for top pick (observed)'], prop={\"size\":15})\n",
        "plt.savefig('Draft_Market_Value.png')\n",
        "plt.show()\n",
        "plt.savefig('Draft_Values.png')\n",
        "\n",
        "normalizedList=[] #Develops a normalized list of values between 0 and 1000 rather than 0 and 1\n",
        "for i in range(len(y)):\n",
        "  if i>0:\n",
        "    normalizedList.append(round(y[i]*1000,2))\n",
        "\n",
        "#Calculating R^2 score of the proposed model\n",
        "for i in graphX:\n",
        "  calculatingRScore.append(math.exp(-lamb*((i-1)**beta)))\n",
        "r2score= r2_score(calculatingRScore,graphY)\n",
        "print(r2score)\n"
      ],
      "execution_count": 15,
      "outputs": [
        {
          "output_type": "stream",
          "name": "stderr",
          "text": [
            "/usr/local/lib/python3.7/dist-packages/ipykernel_launcher.py:12: RuntimeWarning: invalid value encountered in power\n",
            "  if sys.path[0] == '':\n"
          ]
        },
        {
          "output_type": "display_data",
          "data": {
            "image/png": "[encoded data removed]",
            "text/plain": [
              "<Figure size 800x800 with 1 Axes>"
            ]
          },
          "metadata": {
            "needs_background": "light"
          }
        },
        {
          "output_type": "stream",
          "name": "stdout",
          "text": [
            "0.9344555895285479\n"
          ]
        },
        {
          "output_type": "display_data",
          "data": {
            "text/plain": [
              "<Figure size 432x288 with 0 Axes>"
            ]
          },
          "metadata": {}
        }
      ]
    },
    {
      "cell_type": "markdown",
      "source": [
        "Prints NHL Trade Value Chart"
      ],
      "metadata": {
        "id": "GzjSqsPzjAgn"
      }
    },
    {
      "cell_type": "code",
      "metadata": {
        "colab": {
          "base_uri": "https://localhost:8080/"
        },
        "id": "ZCDxhCfHL0v2",
        "outputId": "4793c8ee-298f-49e9-b6ca-969bd759398a"
      },
      "source": [
        "counter=0 #Prints the normalized list\n",
        "while counter<210:  \n",
        "  print(normalizedList[counter])\n",
        "  counter+=1"
      ],
      "execution_count": 16,
      "outputs": [
        {
          "output_type": "stream",
          "name": "stdout",
          "text": [
            "1000.0\n",
            "737.86\n",
            "634.61\n",
            "562.4\n",
            "506.49\n",
            "460.97\n",
            "422.76\n",
            "390.0\n",
            "361.47\n",
            "336.33\n",
            "313.98\n",
            "293.93\n",
            "275.85\n",
            "259.45\n",
            "244.5\n",
            "230.81\n",
            "218.23\n",
            "206.64\n",
            "195.93\n",
            "186.0\n",
            "176.77\n",
            "168.18\n",
            "160.16\n",
            "152.67\n",
            "145.65\n",
            "139.07\n",
            "132.89\n",
            "127.07\n",
            "121.6\n",
            "116.43\n",
            "111.56\n",
            "106.95\n",
            "102.59\n",
            "98.46\n",
            "94.55\n",
            "90.84\n",
            "87.31\n",
            "83.96\n",
            "80.77\n",
            "77.74\n",
            "74.85\n",
            "72.1\n",
            "69.48\n",
            "66.97\n",
            "64.58\n",
            "62.3\n",
            "60.12\n",
            "58.03\n",
            "56.03\n",
            "54.12\n",
            "52.29\n",
            "50.53\n",
            "48.85\n",
            "47.23\n",
            "45.68\n",
            "44.2\n",
            "42.77\n",
            "41.4\n",
            "40.08\n",
            "38.82\n",
            "37.6\n",
            "36.43\n",
            "35.3\n",
            "34.21\n",
            "33.17\n",
            "32.16\n",
            "31.19\n",
            "30.26\n",
            "29.36\n",
            "28.49\n",
            "27.65\n",
            "26.84\n",
            "26.06\n",
            "25.31\n",
            "24.58\n",
            "23.87\n",
            "23.2\n",
            "22.54\n",
            "21.91\n",
            "21.29\n",
            "20.7\n",
            "20.13\n",
            "19.57\n",
            "19.03\n",
            "18.52\n",
            "18.01\n",
            "17.53\n",
            "17.06\n",
            "16.6\n",
            "16.16\n",
            "15.73\n",
            "15.31\n",
            "14.91\n",
            "14.52\n",
            "14.14\n",
            "13.78\n",
            "13.42\n",
            "13.08\n",
            "12.74\n",
            "12.42\n",
            "12.1\n",
            "11.8\n",
            "11.5\n",
            "11.21\n",
            "10.93\n",
            "10.66\n",
            "10.4\n",
            "10.14\n",
            "9.89\n",
            "9.65\n",
            "9.41\n",
            "9.18\n",
            "8.96\n",
            "8.74\n",
            "8.53\n",
            "8.33\n",
            "8.13\n",
            "7.94\n",
            "7.75\n",
            "7.57\n",
            "7.39\n",
            "7.22\n",
            "7.05\n",
            "6.88\n",
            "6.72\n",
            "6.57\n",
            "6.42\n",
            "6.27\n",
            "6.13\n",
            "5.99\n",
            "5.85\n",
            "5.72\n",
            "5.59\n",
            "5.46\n",
            "5.34\n",
            "5.22\n",
            "5.1\n",
            "4.99\n",
            "4.88\n",
            "4.77\n",
            "4.67\n",
            "4.56\n",
            "4.46\n",
            "4.37\n",
            "4.27\n",
            "4.18\n",
            "4.09\n",
            "4.0\n",
            "3.91\n",
            "3.83\n",
            "3.75\n",
            "3.67\n",
            "3.59\n",
            "3.51\n",
            "3.44\n",
            "3.36\n",
            "3.29\n",
            "3.22\n",
            "3.16\n",
            "3.09\n",
            "3.03\n",
            "2.96\n",
            "2.9\n",
            "2.84\n",
            "2.78\n",
            "2.73\n",
            "2.67\n",
            "2.61\n",
            "2.56\n",
            "2.51\n",
            "2.46\n",
            "2.41\n",
            "2.36\n",
            "2.31\n",
            "2.26\n",
            "2.22\n",
            "2.17\n",
            "2.13\n",
            "2.09\n",
            "2.05\n",
            "2.01\n",
            "1.97\n",
            "1.93\n",
            "1.89\n",
            "1.85\n",
            "1.82\n",
            "1.78\n",
            "1.75\n",
            "1.71\n",
            "1.68\n",
            "1.65\n",
            "1.61\n",
            "1.58\n",
            "1.55\n",
            "1.52\n",
            "1.49\n",
            "1.46\n",
            "1.44\n",
            "1.41\n",
            "1.38\n",
            "1.36\n",
            "1.33\n",
            "1.3\n",
            "1.28\n",
            "1.26\n",
            "1.23\n",
            "1.21\n",
            "1.19\n",
            "1.16\n",
            "1.14\n"
          ]
        }
      ]
    },
    {
      "cell_type": "markdown",
      "source": [
        "The remainder of this notebook applies the above parameters to determine the discount rate applied to future draft picks."
      ],
      "metadata": {
        "id": "Ql4g8Yp3janO"
      }
    },
    {
      "cell_type": "code",
      "metadata": {
        "id": "bnYiOICFHl73"
      },
      "source": [
        "futureTradesPart1=[]\n",
        "futureTradesPart2=[]\n",
        "years=[]\n",
        "for i in listOfDifferentYearTrades:\n",
        "  years.append(i[0].split(', '))\n",
        "  futureTradesPart1.append(i[1].split(', ')) #Splitting the trades involving current and future picks\n",
        "  futureTradesPart2.append(i[2].split(', '))\n",
        "trading1=[] #List of Dictionaries of trades\n",
        "trading2=[]\n",
        "dictTrading1={} #Dictionaries with the year of the draft pick and its associated value, used to find discounting of future picks\n",
        "dictTrading2={}\n",
        "for i in range(len(years)):\n",
        "  dictTrading1={}\n",
        "  dictTrading2={}\n",
        "  for j in range(len(years[i])):\n",
        "    if j<len(futureTradesPart1[i]): \n",
        "      if years[i][j] in dictTrading1:\n",
        "        dictTrading1[years[i][j]].append(futureTradesPart1[i][j])\n",
        "      else:\n",
        "        dictTrading1[years[i][j]]=[futureTradesPart1[i][j]]\n",
        "    else:\n",
        "      if years[i][j] in dictTrading2:\n",
        "        dictTrading2[years[i][j]].append(futureTradesPart2[i][j-len(futureTradesPart1[i])])\n",
        "      else:\n",
        "        dictTrading2[years[i][j]]=[futureTradesPart2[i][j-len(futureTradesPart1[i])]]\n",
        "  trading1.append(dictTrading1)\n",
        "  trading2.append(dictTrading2)"
      ],
      "execution_count": 17,
      "outputs": []
    },
    {
      "cell_type": "markdown",
      "source": [
        "Discount Rate for 1-for-1 trades"
      ],
      "metadata": {
        "id": "UxnWJwr9gtCr"
      }
    },
    {
      "cell_type": "code",
      "metadata": {
        "colab": {
          "base_uri": "https://localhost:8080/"
        },
        "id": "rAAJVAAaOqS_",
        "outputId": "ba793ed3-64f1-4bed-a8ce-0f689952c29f"
      },
      "source": [
        "differenceinPickNumber=[]\n",
        "differenceInValue=[]\n",
        "\n",
        "def percentageDifference(pick1,pick2,lamb,beta):\n",
        "  return (math.exp((-lamb*((pick1)-1)**beta))-math.exp(-lamb*((pick2)-1)**beta))/math.exp(-lamb*((pick2)-1)**beta) #Calculation for percentage difference in one-for-one trades\n",
        "\n",
        "\n",
        "for i in range(len(trading1)): #for loop designed to determine discounting for one-for-one trades\n",
        "  if len(list(trading1[i].values()))==1 and len(list(trading2[i].values()))==1 and len(list(trading1[i].values())[0])==1 and len(list(trading2[i].values())[0])==1: #Checks that all requirements of the lists are satisfied in order to be a one-for-one trades\n",
        "    firstYear=list(trading1[i].keys())[0]\n",
        "    secondYear=list(trading2[i].keys())[0]\n",
        "    if firstYear<secondYear:#Determines which picks are future picks to determine discounting\n",
        "      differenceinPickNumber.append(int(trading1[i][firstYear][0])-int(trading2[i][secondYear][0]))\n",
        "      differenceInValue.append(percentageDifference(int(trading2[i][secondYear][0]),int(trading1[i][firstYear][0]),lamb,beta))\n",
        "    else: \n",
        "      differenceinPickNumber.append(int(trading2[i][secondYear][0])-int(trading1[i][firstYear][0]))\n",
        "      differenceInValue.append(percentageDifference(int(trading1[i][firstYear][0]),int(trading2[i][secondYear][0]),lamb,beta))\n",
        "\n",
        "print(len(differenceinPickNumber))\n",
        "print(differenceInValue)\n",
        "print(differenceinPickNumber)\n",
        "print(statistics.mean(differenceinPickNumber))\n",
        "print(statistics.mean(differenceInValue))\n"
      ],
      "execution_count": 18,
      "outputs": [
        {
          "output_type": "stream",
          "name": "stdout",
          "text": [
            "98\n",
            "[0.3949564559508103, -0.054985093100388016, 0.48068475978597236, 0.1944244974946088, 0.07402176105054913, 0.06987214366313642, 0.02291099136535422, 0.4138915399623424, 0.09968821802733127, 0.2325320567819868, -0.3535638374382808, 0.19132213786325086, -0.19225642892944075, 0.33976071795748486, -0.37029580609525803, -0.02239783476641818, 0.16740545373021584, -0.19081799559581603, 0.4962856051959351, 0.0386211250188509, 0.5959947977226189, 0.9982697717099216, 0.04555795600523713, 0.26718209434640955, -0.14632943159534756, 0.5007283039353052, 0.46822899044862204, -0.15014904479625843, 1.8167378002232208, 0.04337631114732699, -0.14145489356453567, 1.4958823180280412, 0.6072265783328988, 0.7248628493027892, 0.22088722621172077, 0.27961242362052713, 0.020371474263158485, 0.6238423908341738, 0.14486047556631046, 0.9035692578569158, -0.20960386580988893, 0.2829282030239133, 0.986705279953677, 0.04224536039880695, 0.4526857278670089, 0.7931007723393803, 0.124796118809966, 0.058575874146494455, 0.44106281225337446, 0.7578768612257804, 1.7540710691502992, 1.7963830680151291, 0.8343052668731179, 0.6450810392139784, 1.7129203774685635, 0.4064047309345786, 0.31086362410457763, 0.37741921393959954, 1.2037326432095081, -0.07544624082517055, 0.9976349364700556, -0.07908363576368552, 0.215078730473229, -0.10213009406781817, 0.6303180053921086, 0.42379175605497243, 0.6536544279164066, -0.016971609269595855, 0.5211059539416403, 0.19898130517975035, 1.4258295591727415, -0.18323342184807662, 0.820922496161611, 0.12974484872883216, 0.12928825797997912, 0.3754007333128049, 0.12479355154899623, -0.3033786324393698, 0.5367308043990294, 0.4492228279864072, 0.03463129187680212, -0.48740282695746956, -0.27755419471422, 0.7848419650370619, -0.48740282695746956, -0.11326370837665492, 2.800191324086327, 0.0904206753091442, 1.1878470580943672, 1.1878470580943672, -0.3015886212993375, -0.2905406734650215, -0.1262708007454037, 0.5554642517426748, 0.28769078802918235, -0.058511479516757045, 0.9211067671587682, 0.23773069526550109]\n",
            "[13, -3, 14, 6, 3, 3, 1, 16, 5, 11, -21, 9, -11, 12, -24, -1, 7, -7, 20, 2, 24, 24, 2, 12, -8, 21, 13, -8, 51, 2, -8, 32, 21, 26, 10, 9, 1, 24, 7, 33, -12, 13, 29, 2, 15, 27, 6, 2, 13, 20, 37, 53, 32, 28, 58, 20, 16, 19, 45, -3, 35, -5, 6, -4, 19, 19, 30, -1, 25, 7, 42, -10, 34, 7, 7, 19, 7, -17, 24, 21, 2, -29, -18, 19, -29, -7, 38, 4, 23, 23, -21, -10, -5, 11, 14, -2, 36, 12]\n",
            "11.112244897959183\n",
            "0.37694248569189653\n"
          ]
        }
      ]
    },
    {
      "cell_type": "code",
      "metadata": {
        "colab": {
          "base_uri": "https://localhost:8080/"
        },
        "id": "9spZQvaDUMsp",
        "outputId": "ead5352f-47fa-4859-9001-d9501fcd932d"
      },
      "source": [
        "print(statistics.mean(differenceinPickNumber))\n",
        "print(statistics.median(differenceinPickNumber))\n",
        "print(statistics.stdev(differenceinPickNumber))\n",
        "print(max(differenceinPickNumber))\n",
        "print(min(differenceinPickNumber))"
      ],
      "execution_count": 19,
      "outputs": [
        {
          "output_type": "stream",
          "name": "stdout",
          "text": [
            "11.112244897959183\n",
            "11.0\n",
            "17.633077313022692\n",
            "58\n",
            "-29\n"
          ]
        }
      ]
    },
    {
      "cell_type": "markdown",
      "source": [
        "Finding the difference between each side of the trade in the absence of future draft picks, and determining the discount rate applied to make the trade equal in value."
      ],
      "metadata": {
        "id": "2FjUlIW5lIo1"
      }
    },
    {
      "cell_type": "code",
      "metadata": {
        "colab": {
          "base_uri": "https://localhost:8080/"
        },
        "id": "AHKarZEaIW1V",
        "outputId": "91b54cdd-5f22-41b2-bc5f-7a45090a158f"
      },
      "source": [
        "futureValueDiscounting=[] #List with the discounting for every trade involving a future draft picks\n",
        "for i in range(len(trading1)):\n",
        "  for j in range(len(trading1[i])):\n",
        "    keysInvolved1=list(trading1[i].keys()) #Years of the picks on one side of the trade\n",
        "    valuesInvolved1=list(trading1[i].values()) #Picks involved on one side of the trade\n",
        "    keysInvolved2=list(trading2[i].keys())\n",
        "    valuesInvolved2=list(trading2[i].values())\n",
        "    totalOnTrade1Side=0 #Sum of all trade values for one side\n",
        "    totalOnTrade2Side=0 #Sum of all trade values for the other side\n",
        "    listOfYears=[]\n",
        "    listOfOneYearValues1=[] #List of picks one year in the future on one side of the trade\n",
        "    listOfTwoYearValues1=[] #List of picks two years into the future on one side of the trade\n",
        "    listOfOneYearValues2=[]\n",
        "    listOfTwoYearValues2=[]\n",
        "    for i in keysInvolved1: #Creating the full list of years from the keys of the dictionary\n",
        "      listOfYears.append(int(i))\n",
        "    for i in keysInvolved2:\n",
        "      listOfYears.append(int(i))\n",
        "    for i in range(len(listOfYears)):\n",
        "      if i<len(keysInvolved1):\n",
        "        if listOfYears[i]==min(listOfYears):\n",
        "          for j in valuesInvolved1[i]:\n",
        "            totalOnTrade1Side+=math.exp(-lamb*((int(j)-1)**beta)) #Take each current draft pick from one side of the trade and use the proposed model to determine their value\n",
        "        else:\n",
        "          for j in range(len(valuesInvolved1[i])):\n",
        "            if int(keysInvolved1[i])==min(listOfYears)+1:\n",
        "              listOfOneYearValues1.append(int(valuesInvolved1[i][j]))\n",
        "            else:\n",
        "              listOfTwoYearValues1.append(int(valuesInvolved1[i][j]))\n",
        "      else:\n",
        "        if listOfYears[i]==min(listOfYears):\n",
        "          for j in valuesInvolved2[i-len(keysInvolved1)]:\n",
        "            totalOnTrade2Side+=math.exp(-lamb*((int(j)-1)**beta)) #Take each draft pick on the other side of the trade from the current year\n",
        "        else:\n",
        "          for j in range(len(valuesInvolved2[i-len(keysInvolved1)])):\n",
        "            if int(keysInvolved2[i-len(keysInvolved1)])==min(listOfYears)+1:\n",
        "              listOfOneYearValues2.append(int(valuesInvolved2[i-len(keysInvolved1)][j]))\n",
        "            else:\n",
        "              listOfTwoYearValues2.append(int(valuesInvolved2[i-len(keysInvolved1)][j]))\n",
        "  if len(listOfTwoYearValues1)==0 and len(listOfTwoYearValues2)==0:\n",
        "    presentValueDifferenceinTradeValue=totalOnTrade1Side-totalOnTrade2Side\n",
        "    futureValueDifferenceInTradeValue=0\n",
        "    for j in listOfOneYearValues2:\n",
        "      futureValueDifferenceInTradeValue+=math.exp(-lamb*((j-1)**beta)) #Determining the value of draft picks taken in the future assuming they were taken in the present year\n",
        "    for j in listOfOneYearValues1:\n",
        "      futureValueDifferenceInTradeValue-=math.exp(-lamb*((j-1)**beta))\n",
        "    percentDifference=(abs(futureValueDifferenceInTradeValue)-abs(presentValueDifferenceinTradeValue))/abs(presentValueDifferenceinTradeValue)*100 #Determine the percentage difference in draft value between present draft picks and future draft picks\n",
        "    futureValueDiscounting.append(percentDifference) #Adds the future discounting to the discounting list to determine how much teams discount future draft picks\n",
        "\n",
        "print(futureValueDiscounting)\n",
        "print(statistics.mean(futureValueDiscounting))\n",
        "print(statistics.median(futureValueDiscounting))\n",
        "print(min(futureValueDiscounting))"
      ],
      "execution_count": 27,
      "outputs": [
        {
          "output_type": "stream",
          "name": "stdout",
          "text": [
            "[39.49564559508103, -5.498509310038802, 48.068475978597235, 19.44244974946088, 7.402176105054912, 6.9872143663136415, 2.291099136535422, 41.38915399623424, 69.21559005477732, 9.968821802733126, -52.7988382662254, 23.25320567819868, -35.356383743828076, 19.132213786325085, -19.225642892944077, 33.97607179574849, -37.0295806095258, 39.105848435505166, 48.068475978597235, -2.239783476641818, 16.740545373021583, -19.081799559581604, 86.37165642047296, 57.32069973337728, 49.62856051959351, 3.234017569915964, 3.8621125018850897, 48.068475978597235, 89.21855313610297, 59.59947977226189, 48.068475978597235, 99.82697717099217, 14.1723231481918, 48.068475978597235, 4.555795600523712, 26.718209434640954, -14.632943159534756, 77.31531340149725, 12.512031500741822, -15.014904479625843, -7.588433278491115, 0.6256390213473797, 181.6737800223221, 4.337631114732699, -14.145489356453567, 127.76102291250476, 149.5882318028041, 60.72265783328989, 72.48628493027893, 22.088722621172078, -24.74151727894546, 247.73369753359532, 27.96124236205271, 38.37034736701306, 19.74758749739666, 2.0371474263158484, 62.384239083417384, 14.486047556631046, 90.35692578569157, 48.068475978597235, 48.068475978597235, 48.068475978597235, 12.34997899589099, -20.960386580988892, 28.29282030239133, 48.068475978597235, 48.068475978597235, 48.068475978597235, -22.903814674595957, 48.068475978597235, 48.068475978597235, 98.67052799536769, 4.224536039880695, 16.230628119128234, 111.71631604012633, 45.26857278670089, 79.31007723393803, 12.4796118809966, 48.068475978597235, 48.068475978597235, 5.857587414649446, 137.74458600498374, -56.86361920072931, 44.10628122533745, 75.78768612257804, 175.4071069150299, -2.8241101357101064, 179.63830680151293, 83.43052668731178, 64.50810392139785, 171.29203774685635, 40.64047309345786, 31.086362410457763, 37.741921393959956, 120.37326432095081, 28.14809581891, -7.544624082517055, 97.07250261039769, 73.19434999993399, -46.562923394223, 154.48851033065435, 99.76349364700556, -7.908363576368552, 272.82408736719646, 21.5078730473229, 48.068475978597235, 41.06252326766894, 132.69033196751613, 42.51915002188578, -10.213009406781817, 63.031800539210856, 48.068475978597235, 65.52620879815322, 48.068475978597235, 42.379175605497245, -1.6971609269595855, 52.11059539416403, 19.898130517975034, 48.068475978597235, 142.58295591727415, 38.13244174306053, 48.068475978597235, 82.0922496161611, 12.974484872883215, 12.928825797997911, 37.54007333128049, 12.479355154899622, 57.359316085168054, -30.33786324393698, 53.67308043990294, 44.92228279864072, 3.4631291876802117, 48.068475978597235, 48.068475978597235, -48.740282695746956, 6.869341643976614, -27.755419471421998, 78.48419650370619, -48.740282695746956, 18.197289159982375, -11.326370837665491, 48.068475978597235, 280.0191324086327, 9.04206753091442, 118.78470580943672, 48.068475978597235, 118.78470580943672, -27.492978786291154, -30.158862129933752, -29.054067346502148, 19.44244974946088, 27.271057809126155, 55.546425174267476, 28.769078802918237, -5.851147951675705, 92.11067671587682, 23.77306952655011]\n",
            "42.433552965401816\n",
            "39.49564559508103\n",
            "-56.86361920072931\n"
          ]
        }
      ]
    },
    {
      "cell_type": "markdown",
      "source": [
        "Classifying the different types of trades."
      ],
      "metadata": {
        "id": "Vds4pj0dlsPd"
      }
    },
    {
      "cell_type": "code",
      "metadata": {
        "id": "eI6aGwX6Ry6h",
        "colab": {
          "base_uri": "https://localhost:8080/"
        },
        "outputId": "d4c5e338-30d9-444f-9227-db4dfe6080c6"
      },
      "source": [
        "dictDifferentTypesOfFutureTrades={} #Dictionary with each type of trade\n",
        "for i in range(len(trading1)):\n",
        "  if len(trading1[i].values())>len(trading2[i].values()):\n",
        "    typeOfTrade=(len(trading1[i].values()),len(trading2[i].values()))\n",
        "  else:\n",
        "    typeOfTrade=(len(trading2[i].values()),len(trading1[i].values()))\n",
        "  if typeOfTrade in dictDifferentTypesOfFutureTrades:\n",
        "    dictDifferentTypesOfFutureTrades[typeOfTrade]+=1\n",
        "  else:\n",
        "    dictDifferentTypesOfFutureTrades[typeOfTrade]=1\n",
        "\n",
        "stdevList=[] #List to determine standard deviation of number of picks in trades with future picks\n",
        "counter=0\n",
        "while counter<len(trading1):\n",
        "  if counter<111:\n",
        "    stdevList.append(1)\n",
        "  elif counter<163:\n",
        "    stdevList.append(2)\n",
        "  else:\n",
        "    stdevList.append(3)\n",
        "  counter+=1\n",
        "\n",
        "\n",
        "print(statistics.stdev(stdevList))\n",
        "print(dictDifferentTypesOfFutureTrades)"
      ],
      "execution_count": null,
      "outputs": [
        {
          "output_type": "stream",
          "name": "stdout",
          "text": [
            "0.4999630437192296\n",
            "{(1, 1): 111, (2, 1): 51, (3, 1): 2, (2, 2): 1}\n"
          ]
        }
      ]
    }
  ]
}