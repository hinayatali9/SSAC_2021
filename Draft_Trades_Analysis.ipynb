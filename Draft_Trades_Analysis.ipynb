{
  "nbformat": 4,
  "nbformat_minor": 0,
  "metadata": {
    "colab": {
      "name": "Draft_Trades_Analysis.ipynb",
      "provenance": [],
      "collapsed_sections": []
    },
    "kernelspec": {
      "name": "python3",
      "display_name": "Python 3"
    },
    "language_info": {
      "name": "python"
    }
  },
  "cells": [
    {
      "cell_type": "code",
      "metadata": {
        "id": "_0VOom4foueL"
      },
      "source": [
        "#Imports for reading the csv file\n",
        "import csv\n",
        "from csv import writer\n",
        "from csv import reader\n",
        "import pandas as pd"
      ],
      "execution_count": 16,
      "outputs": []
    },
    {
      "cell_type": "markdown",
      "source": [
        "Dividing Draft Trades into those involving picks from the current year and those involving both current and future picks."
      ],
      "metadata": {
        "id": "0jilJbjrMAQM"
      }
    },
    {
      "cell_type": "code",
      "metadata": {
        "colab": {
          "base_uri": "https://localhost:8080/"
        },
        "id": "KrrwmqoI_YD_",
        "outputId": "cfbd1d3d-3d5a-494e-c0ac-115971f9a4bb"
      },
      "source": [
        "with open('Final_Draft_Trades.csv', 'r') as f:\n",
        "      reader = csv.reader(f)\n",
        "      f.readline()\n",
        "      listOfCurrentYearTrades=[] \n",
        "      listOfDifferentYearTrades=[]\n",
        "      for row in reader:\n",
        "        counter=0\n",
        "        for i in row:\n",
        "          newLine=i.split(', ')\n",
        "          for i in newLine:\n",
        "            if counter==0:\n",
        "              result = all(element == newLine[0] for element in newLine) #Checks if the trade involves only current picks or current and future picks\n",
        "              if result:\n",
        "                listOfCurrentYearTrades.append(row)\n",
        "              else:\n",
        "                listOfDifferentYearTrades.append(row)\n",
        "              counter+=1\n",
        "\n",
        "print(len(listOfCurrentYearTrades))\n",
        "print(len(listOfDifferentYearTrades))"
      ],
      "execution_count": 17,
      "outputs": [
        {
          "output_type": "stream",
          "name": "stdout",
          "text": [
            "191\n",
            "165\n"
          ]
        }
      ]
    },
    {
      "cell_type": "markdown",
      "source": [
        "Splitting current year trades into a list of draft picks used to trade up and to trade down."
      ],
      "metadata": {
        "id": "XwZW2EmWMce8"
      }
    },
    {
      "cell_type": "code",
      "metadata": {
        "id": "mbh4kaSBj6E8"
      },
      "source": [
        "valueForTradePart1=[] #Lists with the integer values for each draft pick\n",
        "valueForTradePart2=[]\n",
        "temp=[]\n",
        "tradingUp=[] #List to check statistics on trading up and trading down \n",
        "tradingDown=[]\n",
        "tradingUpPicks=[] #List of picks used to trade up\n",
        "tradingDownPicks=[] #List of picks used to trade down\n",
        "for i in listOfCurrentYearTrades:\n",
        "  valueForTradePart1.append(i[1].split(', '))\n",
        "  valueForTradePart2.append(i[2].split(', '))\n",
        "for i in range(len(valueForTradePart1)):\n",
        "  temp=[]\n",
        "  for j in range(len(valueForTradePart1[i])):\n",
        "    valueForTradePart1[i][j]=int(valueForTradePart1[i][j])\n",
        "    temp.append(valueForTradePart1[i][j])\n",
        "  for k in range(len(valueForTradePart2[i])):\n",
        "    valueForTradePart2[i][k]=int(valueForTradePart2[i][k])\n",
        "    temp.append(valueForTradePart2[i][k])\n",
        "  highestPick=min(temp) #Determines which pick is the highest in the trade to determine which side of the trade is trading up or trading down\n",
        "  if highestPick in valueForTradePart2[i]:\n",
        "    tradingUp.append(len(valueForTradePart2[i]))\n",
        "    tradingDown.append(len(valueForTradePart1[i]))\n",
        "    tradingDownPicks.append(valueForTradePart2[i])\n",
        "    tradingUpPicks.append(valueForTradePart1[i])\n",
        "  else:\n",
        "    tradingUp.append(len(valueForTradePart1[i]))\n",
        "    tradingDown.append(len(valueForTradePart2[i]))\n",
        "    tradingDownPicks.append(valueForTradePart1[i])\n",
        "    tradingUpPicks.append(valueForTradePart2[i])"
      ],
      "execution_count": 18,
      "outputs": []
    },
    {
      "cell_type": "markdown",
      "source": [
        "Key statistics on trading up and trading down for draft picks."
      ],
      "metadata": {
        "id": "Xj15rxlANF_X"
      }
    },
    {
      "cell_type": "code",
      "metadata": {
        "colab": {
          "base_uri": "https://localhost:8080/"
        },
        "id": "XEr37zm403XA",
        "outputId": "53e2729a-204b-47f5-9427-1d9f6c19cdc7"
      },
      "source": [
        "import numpy as np\n",
        "import statistics\n",
        "dictDifferentTypesOfTrades={}\n",
        "#Classifying the types of current year trades\n",
        "for i in range(len(tradingUpPicks)):\n",
        "  if len(tradingUpPicks[i])>len(tradingDownPicks[i]):\n",
        "    typeOfTrade=(len(tradingUpPicks[i]),len(tradingDownPicks[i]))\n",
        "  else:\n",
        "    typeOfTrade=(len(tradingDownPicks[i]),len(tradingUpPicks[i]))\n",
        "  if typeOfTrade==(1,1):\n",
        "    print(tradingDownPicks[i],tradingUpPicks[i])\n",
        "  if typeOfTrade in dictDifferentTypesOfTrades:\n",
        "    dictDifferentTypesOfTrades[typeOfTrade]+=1\n",
        "  else:\n",
        "    dictDifferentTypesOfTrades[typeOfTrade]=1\n",
        "#Statistics on current year trades\n",
        "print(statistics.mean(tradingUp))\n",
        "print(statistics.mean(tradingDown))\n",
        "print(statistics.median(tradingUp))\n",
        "print(statistics.median(tradingDown))\n",
        "print(max(tradingUp))\n",
        "print(max(tradingDown))\n",
        "print(statistics.stdev(tradingUp))\n",
        "print(statistics.stdev(tradingDown))\n",
        "print(dictDifferentTypesOfTrades)"
      ],
      "execution_count": 19,
      "outputs": [
        {
          "output_type": "stream",
          "name": "stdout",
          "text": [
            "[247] [250]\n",
            "[245] [246]\n",
            "1.0732984293193717\n",
            "2.141361256544503\n",
            "1\n",
            "2\n",
            "2\n",
            "4\n",
            "0.26131068410820657\n",
            "0.3919132964888134\n",
            "{(2, 1): 151, (3, 1): 24, (2, 2): 10, (4, 2): 1, (3, 2): 3, (1, 1): 2}\n"
          ]
        }
      ]
    },
    {
      "cell_type": "code",
      "metadata": {
        "id": "O5ZpzXc2418P"
      },
      "source": [
        "#Imports required to analyze draft trades data\n",
        "import numpy, scipy, matplotlib\n",
        "import matplotlib.pyplot as plt\n",
        "from scipy.optimize import curve_fit\n",
        "from scipy.optimize import differential_evolution\n",
        "import warnings\n",
        "import math\n",
        "from math import log"
      ],
      "execution_count": 20,
      "outputs": []
    },
    {
      "cell_type": "markdown",
      "source": [
        "Isolating the top pick involved in the trade for the Weibull Distribution"
      ],
      "metadata": {
        "id": "xeV8ipI4ofvG"
      }
    },
    {
      "cell_type": "code",
      "metadata": {
        "id": "f1m5fuGMyFTH"
      },
      "source": [
        "topPicks=[]\n",
        "restOfPicks=[]\n",
        "for i in tradingDownPicks:\n",
        "  restOfPicksToBeAdded=[]\n",
        "  for j in i:\n",
        "    if j==min(i): #Isolates top pick involved in the trade\n",
        "      topPicks.append([j])\n",
        "    else:\n",
        "      restOfPicksToBeAdded.append(j) #If there are other picks when trading down, include them in a seperate list\n",
        "    if len(i)==1:\n",
        "      restOfPicks.append([-1]) #If there are no other picks, add a -1 (value 0 in a Weibull distribution)\n",
        "  if len(i)!=1:\n",
        "    restOfPicks.append(restOfPicksToBeAdded) #List of all lists of extra picks"
      ],
      "execution_count": 21,
      "outputs": []
    },
    {
      "cell_type": "markdown",
      "source": [
        "MPE Minimization Function and Parameter Estimation"
      ],
      "metadata": {
        "id": "zGMmSOZPou2j"
      }
    },
    {
      "cell_type": "code",
      "metadata": {
        "colab": {
          "base_uri": "https://localhost:8080/"
        },
        "id": "JAf6SwIwlHVX",
        "outputId": "5059eeda-91cf-4cfc-bd29-22162b95ae71"
      },
      "source": [
        "import math\n",
        "def equation(a, b, tradingUpData,tradingDownData): #Function to determine the estimated top pick using the estimated value of the other picks involved in the trade\n",
        "  sumTradingUp=0\n",
        "  sumTradingDown=0\n",
        "  for i in tradingUpData:\n",
        "    sumTradingUp+=math.exp(-a*((i-1)**b))\n",
        "  for i in tradingDownData:\n",
        "    if i!=-1:\n",
        "      sumTradingDown+=math.exp(-a*((i-1)**b))\n",
        "  return ((-1/a)*math.log(sumTradingUp-sumTradingDown))**(1/b)+1\n",
        "\n",
        "graphX=[]\n",
        "graphY=[]\n",
        "def averageError(lamb, beta, tradingUpList, tradingDownList): #Function to determine the Mean Percent Error of the Weibull Distribution given a set of parameters\n",
        "    graphX=[]\n",
        "    graphY=[]\n",
        "    outliers=[]\n",
        "    newListDiff=0\n",
        "    for i in range(len(tradingUpList)):\n",
        "      foundValue=equation(lamb,beta,tradingUpList[i],tradingDownList[i])\n",
        "      graphX.append(foundValue)\n",
        "      graphY.append(math.exp(-lamb*((topPicks[i][0]-1)**beta)))\n",
        "      #print(topPicks[i][0])\n",
        "      outliers.append(abs(topPicks[i][0]-foundValue)/topPicks[i][0])\n",
        "    newListDiff=statistics.mean(outliers)\n",
        "    return (newListDiff,graphX,graphY)\n",
        "\n",
        "minVal=10000000\n",
        "lambVal=0.1 #Starting Lambda Value\n",
        "betaVal=0.5 #Starting Beta Value\n",
        "storedLamb=0\n",
        "storedBeta=0\n",
        "while lambVal<0.35: #Lambda Limits determined using the parameters found in Thaler and Massey's paper\n",
        "  betaVal=0.5\n",
        "  while betaVal<0.7: #Beta Limits determined using the parameters found in Thaler and Massey's paper\n",
        "    temp=averageError(lambVal, betaVal, tradingUpPicks, restOfPicks)\n",
        "    if isinstance(temp[0], complex)==False: #Removal of all complex MPEs\n",
        "      if temp[0]<minVal:\n",
        "        minVal=temp[0]\n",
        "        storedLamb=lambVal\n",
        "        storedBeta=betaVal\n",
        "    betaVal+=0.001#Increase of beta value by 0.001 given a lambda value\n",
        "  lambVal+=0.001#Increase of beta value by 0.001 to loop through again\n",
        "print(storedLamb)\n",
        "print(storedBeta)\n",
        "\n",
        "lamb=0.304 #Minimization of MPE function yields these values of lambda and beta\n",
        "beta=0.581\n",
        "tempList=averageError(lamb,beta,tradingUpPicks,restOfPicks)\n",
        "sSquared=tempList[0] #Mean Percent Error\n",
        "graphX=tempList[1] #Estimated Top Pick given the value of the remaining draft picks involved in the trade\n",
        "graphY=tempList[2] #Estimated Draft Value of Top Pick in the trade\n",
        "print(sSquared)"
      ],
      "execution_count": 22,
      "outputs": [
        {
          "output_type": "stream",
          "name": "stdout",
          "text": [
            "0.30400000000000016\n",
            "0.5810000000000001\n",
            "0.09914023847424935\n"
          ]
        }
      ]
    },
    {
      "cell_type": "markdown",
      "source": [
        "Use above Weibull Distribution Parameters to plot the top pick acquired versus the picks exchanged"
      ],
      "metadata": {
        "id": "xDh0k_UVpNu0"
      }
    },
    {
      "cell_type": "code",
      "metadata": {
        "colab": {
          "base_uri": "https://localhost:8080/",
          "height": 723
        },
        "id": "Ip7qqZZJyFjo",
        "outputId": "885a1143-0863-4334-a375-c362e04c537e"
      },
      "source": [
        "import matplotlib.pyplot as plt\n",
        "import numpy as np\n",
        "import math\n",
        "from matplotlib.pyplot import figure\n",
        "from sklearn.metrics import r2_score\n",
        "figure(figsize=(10, 10), dpi=80)\n",
        "x=np.array(range(250))\n",
        "y=[]\n",
        "calculatingRScore=[]\n",
        "warnings.filterwarnings(\"ignore\")\n",
        "for i in x:\n",
        "    y.append(math.exp(-lamb*((i-1)**beta))) #Proposed Weibull Distribution versus draft position\n",
        "plt.style.use('seaborn-whitegrid')\n",
        "plt.plot(x,y,'b')\n",
        "plt.scatter(graphX, graphY, marker=\"1\") #Value of Picks Exchanged for Top Pick versus Draft Position\n",
        "plt.grid(alpha=.4,linestyle='--')\n",
        "plt.title('Draft Pick Value Versus Draft Position', fontsize=16)\n",
        "plt.xlabel('Draft Position', fontsize=14)\n",
        "plt.ylabel('Pick Value', fontsize=14)\n",
        "plt.legend(['Top pick acquired (all possible)','Picks exchanged for top pick (observed)'], prop={\"size\":15})\n",
        "plt.savefig('Draft_Market_Value.png')\n",
        "plt.show()\n",
        "plt.savefig('Draft_Values.png')\n",
        "\n",
        "normalizedList=[] #Develops a normalized list of values between 0 and 1000 rather than 0 and 1\n",
        "for i in range(len(y)):\n",
        "  if i>0:\n",
        "    normalizedList.append(round(y[i]*1000,2))\n",
        "\n",
        "#Calculating R^2 score of the proposed model\n",
        "for i in graphX:\n",
        "  calculatingRScore.append(math.exp(-lamb*((i-1)**beta)))\n",
        "r2score= r2_score(calculatingRScore,graphY)\n",
        "print(r2score)"
      ],
      "execution_count": 23,
      "outputs": [
        {
          "output_type": "display_data",
          "data": {
            "image/png": "[encoded data removed]",
            "text/plain": [
              "<Figure size 800x800 with 1 Axes>"
            ]
          },
          "metadata": {}
        },
        {
          "output_type": "stream",
          "name": "stdout",
          "text": [
            "0.9344555895285479\n"
          ]
        },
        {
          "output_type": "display_data",
          "data": {
            "text/plain": [
              "<Figure size 432x288 with 0 Axes>"
            ]
          },
          "metadata": {}
        }
      ]
    },
    {
      "cell_type": "markdown",
      "source": [
        "Prints NHL Trade Value Chart"
      ],
      "metadata": {
        "id": "GzjSqsPzjAgn"
      }
    },
    {
      "cell_type": "code",
      "metadata": {
        "colab": {
          "base_uri": "https://localhost:8080/"
        },
        "id": "ZCDxhCfHL0v2",
        "outputId": "3b93f55a-2313-4035-ed39-586dafb57f94"
      },
      "source": [
        "print(normalizedList[0:210])"
      ],
      "execution_count": 30,
      "outputs": [
        {
          "output_type": "stream",
          "name": "stdout",
          "text": [
            "[1000.0, 737.86, 634.61, 562.4, 506.49, 460.97, 422.76, 390.0, 361.47, 336.33, 313.98, 293.93, 275.85, 259.45, 244.5, 230.81, 218.23, 206.64, 195.93, 186.0, 176.77, 168.18, 160.16, 152.67, 145.65, 139.07, 132.89, 127.07, 121.6, 116.43, 111.56, 106.95, 102.59, 98.46, 94.55, 90.84, 87.31, 83.96, 80.77, 77.74, 74.85, 72.1, 69.48, 66.97, 64.58, 62.3, 60.12, 58.03, 56.03, 54.12, 52.29, 50.53, 48.85, 47.23, 45.68, 44.2, 42.77, 41.4, 40.08, 38.82, 37.6, 36.43, 35.3, 34.21, 33.17, 32.16, 31.19, 30.26, 29.36, 28.49, 27.65, 26.84, 26.06, 25.31, 24.58, 23.87, 23.2, 22.54, 21.91, 21.29, 20.7, 20.13, 19.57, 19.03, 18.52, 18.01, 17.53, 17.06, 16.6, 16.16, 15.73, 15.31, 14.91, 14.52, 14.14, 13.78, 13.42, 13.08, 12.74, 12.42, 12.1, 11.8, 11.5, 11.21, 10.93, 10.66, 10.4, 10.14, 9.89, 9.65, 9.41, 9.18, 8.96, 8.74, 8.53, 8.33, 8.13, 7.94, 7.75, 7.57, 7.39, 7.22, 7.05, 6.88, 6.72, 6.57, 6.42, 6.27, 6.13, 5.99, 5.85, 5.72, 5.59, 5.46, 5.34, 5.22, 5.1, 4.99, 4.88, 4.77, 4.67, 4.56, 4.46, 4.37, 4.27, 4.18, 4.09, 4.0, 3.91, 3.83, 3.75, 3.67, 3.59, 3.51, 3.44, 3.36, 3.29, 3.22, 3.16, 3.09, 3.03, 2.96, 2.9, 2.84, 2.78, 2.73, 2.67, 2.61, 2.56, 2.51, 2.46, 2.41, 2.36, 2.31, 2.26, 2.22, 2.17, 2.13, 2.09, 2.05, 2.01, 1.97, 1.93, 1.89, 1.85, 1.82, 1.78, 1.75, 1.71, 1.68, 1.65, 1.61, 1.58, 1.55, 1.52, 1.49, 1.46, 1.44, 1.41, 1.38, 1.36, 1.33, 1.3, 1.28, 1.26, 1.23, 1.21, 1.19, 1.16, 1.14]\n"
          ]
        }
      ]
    },
    {
      "cell_type": "markdown",
      "source": [
        "The remainder of this notebook applies the above parameters to determine the discount rate applied to future draft picks."
      ],
      "metadata": {
        "id": "Ql4g8Yp3janO"
      }
    },
    {
      "cell_type": "code",
      "metadata": {
        "id": "bnYiOICFHl73"
      },
      "source": [
        "futureTradesPart1=[]\n",
        "futureTradesPart2=[]\n",
        "years=[]\n",
        "for i in listOfDifferentYearTrades:\n",
        "  years.append(i[0].split(', '))\n",
        "  futureTradesPart1.append(i[1].split(', ')) #Splitting the trades involving current and future picks\n",
        "  futureTradesPart2.append(i[2].split(', '))\n",
        "trading1=[] #List of Dictionaries of trades\n",
        "trading2=[]\n",
        "dictTrading1={} #Dictionaries with the year of the draft pick and its associated value, used to find discounting of future picks\n",
        "dictTrading2={}\n",
        "for i in range(len(years)):\n",
        "  dictTrading1={}\n",
        "  dictTrading2={}\n",
        "  for j in range(len(years[i])):\n",
        "    if j<len(futureTradesPart1[i]): \n",
        "      if years[i][j] in dictTrading1:\n",
        "        dictTrading1[years[i][j]].append(futureTradesPart1[i][j])\n",
        "      else:\n",
        "        dictTrading1[years[i][j]]=[futureTradesPart1[i][j]]\n",
        "    else:\n",
        "      if years[i][j] in dictTrading2:\n",
        "        dictTrading2[years[i][j]].append(futureTradesPart2[i][j-len(futureTradesPart1[i])])\n",
        "      else:\n",
        "        dictTrading2[years[i][j]]=[futureTradesPart2[i][j-len(futureTradesPart1[i])]]\n",
        "  trading1.append(dictTrading1)\n",
        "  trading2.append(dictTrading2)"
      ],
      "execution_count": 25,
      "outputs": []
    },
    {
      "cell_type": "markdown",
      "source": [
        "Discount Rate for 1-for-1 trades"
      ],
      "metadata": {
        "id": "UxnWJwr9gtCr"
      }
    },
    {
      "cell_type": "code",
      "metadata": {
        "colab": {
          "base_uri": "https://localhost:8080/"
        },
        "id": "rAAJVAAaOqS_",
        "outputId": "a468b8ab-6e83-414e-85ed-df3fb92c8e63"
      },
      "source": [
        "differenceinPickNumber=[]\n",
        "differenceInValue=[]\n",
        "\n",
        "def percentageDifference(pick1,pick2,lamb,beta):\n",
        "  return (math.exp((-lamb*((pick1)-1)**beta))-math.exp(-lamb*((pick2)-1)**beta))/math.exp(-lamb*((pick2)-1)**beta) #Calculation for percentage difference in one-for-one trades\n",
        "\n",
        "\n",
        "for i in range(len(trading1)): #for loop designed to determine discounting for one-for-one trades\n",
        "  if len(list(trading1[i].values()))==1 and len(list(trading2[i].values()))==1 and len(list(trading1[i].values())[0])==1 and len(list(trading2[i].values())[0])==1: #Checks that all requirements of the lists are satisfied in order to be a one-for-one trades\n",
        "    firstYear=list(trading1[i].keys())[0]\n",
        "    secondYear=list(trading2[i].keys())[0]\n",
        "    if firstYear<secondYear:#Determines which picks are future picks to determine discounting\n",
        "      differenceinPickNumber.append(int(trading1[i][firstYear][0])-int(trading2[i][secondYear][0]))\n",
        "      differenceInValue.append(percentageDifference(int(trading2[i][secondYear][0]),int(trading1[i][firstYear][0]),lamb,beta))\n",
        "    else: \n",
        "      differenceinPickNumber.append(int(trading2[i][secondYear][0])-int(trading1[i][firstYear][0]))\n",
        "      differenceInValue.append(percentageDifference(int(trading1[i][firstYear][0]),int(trading2[i][secondYear][0]),lamb,beta))\n",
        "\n",
        "print(len(differenceinPickNumber))\n",
        "print(statistics.mean(differenceinPickNumber))\n",
        "print(statistics.mean(differenceInValue))\n"
      ],
      "execution_count": 26,
      "outputs": [
        {
          "output_type": "stream",
          "name": "stdout",
          "text": [
            "98\n",
            "11.112244897959183\n",
            "0.37694248569189653\n"
          ]
        }
      ]
    },
    {
      "cell_type": "code",
      "metadata": {
        "colab": {
          "base_uri": "https://localhost:8080/"
        },
        "id": "9spZQvaDUMsp",
        "outputId": "2c32d549-306e-45ad-c376-0d0291392615"
      },
      "source": [
        "print(statistics.mean(differenceinPickNumber))\n",
        "print(statistics.median(differenceinPickNumber))\n",
        "print(statistics.stdev(differenceinPickNumber))\n",
        "print(max(differenceinPickNumber))\n",
        "print(min(differenceinPickNumber))"
      ],
      "execution_count": 27,
      "outputs": [
        {
          "output_type": "stream",
          "name": "stdout",
          "text": [
            "11.112244897959183\n",
            "11.0\n",
            "17.633077313022692\n",
            "58\n",
            "-29\n"
          ]
        }
      ]
    },
    {
      "cell_type": "markdown",
      "source": [
        "Finding the difference between each side of the trade in the absence of future draft picks, and determining the discount rate applied to make the trade equal in value."
      ],
      "metadata": {
        "id": "2FjUlIW5lIo1"
      }
    },
    {
      "cell_type": "code",
      "metadata": {
        "colab": {
          "base_uri": "https://localhost:8080/"
        },
        "id": "AHKarZEaIW1V",
        "outputId": "8ad42426-42d3-4cde-e119-324b16b88678"
      },
      "source": [
        "futureValueDiscounting=[] #List with the discounting for every trade involving a future draft picks\n",
        "for i in range(len(trading1)):\n",
        "  for j in range(len(trading1[i])):\n",
        "    keysInvolved1=list(trading1[i].keys()) #Years of the picks on one side of the trade\n",
        "    valuesInvolved1=list(trading1[i].values()) #Picks involved on one side of the trade\n",
        "    keysInvolved2=list(trading2[i].keys())\n",
        "    valuesInvolved2=list(trading2[i].values())\n",
        "    totalOnTrade1Side=0 #Sum of all trade values for one side\n",
        "    totalOnTrade2Side=0 #Sum of all trade values for the other side\n",
        "    listOfYears=[]\n",
        "    listOfOneYearValues1=[] #List of picks one year in the future on one side of the trade\n",
        "    listOfTwoYearValues1=[] #List of picks two years into the future on one side of the trade\n",
        "    listOfOneYearValues2=[]\n",
        "    listOfTwoYearValues2=[]\n",
        "    for i in keysInvolved1: #Creating the full list of years from the keys of the dictionary\n",
        "      listOfYears.append(int(i))\n",
        "    for i in keysInvolved2:\n",
        "      listOfYears.append(int(i))\n",
        "    for i in range(len(listOfYears)):\n",
        "      if i<len(keysInvolved1):\n",
        "        if listOfYears[i]==min(listOfYears):\n",
        "          for j in valuesInvolved1[i]:\n",
        "            totalOnTrade1Side+=math.exp(-lamb*((int(j)-1)**beta)) #Take each current draft pick from one side of the trade and use the proposed model to determine their value\n",
        "        else:\n",
        "          for j in range(len(valuesInvolved1[i])):\n",
        "            if int(keysInvolved1[i])==min(listOfYears)+1:\n",
        "              listOfOneYearValues1.append(int(valuesInvolved1[i][j]))\n",
        "            else:\n",
        "              listOfTwoYearValues1.append(int(valuesInvolved1[i][j]))\n",
        "      else:\n",
        "        if listOfYears[i]==min(listOfYears):\n",
        "          for j in valuesInvolved2[i-len(keysInvolved1)]:\n",
        "            totalOnTrade2Side+=math.exp(-lamb*((int(j)-1)**beta)) #Take each draft pick on the other side of the trade from the current year\n",
        "        else:\n",
        "          for j in range(len(valuesInvolved2[i-len(keysInvolved1)])):\n",
        "            if int(keysInvolved2[i-len(keysInvolved1)])==min(listOfYears)+1:\n",
        "              listOfOneYearValues2.append(int(valuesInvolved2[i-len(keysInvolved1)][j]))\n",
        "            else:\n",
        "              listOfTwoYearValues2.append(int(valuesInvolved2[i-len(keysInvolved1)][j]))\n",
        "  if len(listOfTwoYearValues1)==0 and len(listOfTwoYearValues2)==0:\n",
        "    presentValueDifferenceinTradeValue=totalOnTrade1Side-totalOnTrade2Side\n",
        "    futureValueDifferenceInTradeValue=0\n",
        "    for j in listOfOneYearValues2:\n",
        "      futureValueDifferenceInTradeValue+=math.exp(-lamb*((j-1)**beta)) #Determining the value of draft picks taken in the future assuming they were taken in the present year\n",
        "    for j in listOfOneYearValues1:\n",
        "      futureValueDifferenceInTradeValue-=math.exp(-lamb*((j-1)**beta))\n",
        "    percentDifference=(abs(futureValueDifferenceInTradeValue)-abs(presentValueDifferenceinTradeValue))/abs(presentValueDifferenceinTradeValue)*100 #Determine the percentage difference in draft value between present draft picks and future draft picks\n",
        "    futureValueDiscounting.append(percentDifference) #Adds the future discounting to the discounting list to determine how much teams discount future draft picks\n",
        "\n",
        "print(statistics.mean(futureValueDiscounting))\n",
        "print(statistics.median(futureValueDiscounting))\n",
        "print(min(futureValueDiscounting))"
      ],
      "execution_count": 28,
      "outputs": [
        {
          "output_type": "stream",
          "name": "stdout",
          "text": [
            "42.433552965401816\n",
            "39.49564559508103\n",
            "-56.86361920072931\n"
          ]
        }
      ]
    },
    {
      "cell_type": "markdown",
      "source": [
        "Classifying the different types of trades."
      ],
      "metadata": {
        "id": "Vds4pj0dlsPd"
      }
    },
    {
      "cell_type": "code",
      "metadata": {
        "id": "eI6aGwX6Ry6h",
        "colab": {
          "base_uri": "https://localhost:8080/"
        },
        "outputId": "a1d81529-c996-4362-ea2d-a1d82890abaf"
      },
      "source": [
        "dictDifferentTypesOfFutureTrades={} #Dictionary with each type of trade\n",
        "for i in range(len(trading1)):\n",
        "  if len(trading1[i].values())>len(trading2[i].values()):\n",
        "    typeOfTrade=(len(trading1[i].values()),len(trading2[i].values()))\n",
        "  else:\n",
        "    typeOfTrade=(len(trading2[i].values()),len(trading1[i].values()))\n",
        "  if typeOfTrade in dictDifferentTypesOfFutureTrades:\n",
        "    dictDifferentTypesOfFutureTrades[typeOfTrade]+=1\n",
        "  else:\n",
        "    dictDifferentTypesOfFutureTrades[typeOfTrade]=1\n",
        "\n",
        "stdevList=[] #List to determine standard deviation of number of picks in trades with future picks\n",
        "counter=0\n",
        "while counter<len(trading1):\n",
        "  if counter<111:\n",
        "    stdevList.append(1)\n",
        "  elif counter<163:\n",
        "    stdevList.append(2)\n",
        "  else:\n",
        "    stdevList.append(3)\n",
        "  counter+=1\n",
        "\n",
        "\n",
        "print(statistics.stdev(stdevList))\n",
        "print(dictDifferentTypesOfFutureTrades)"
      ],
      "execution_count": 29,
      "outputs": [
        {
          "output_type": "stream",
          "name": "stdout",
          "text": [
            "0.4999630437192296\n",
            "{(1, 1): 111, (2, 1): 51, (3, 1): 2, (2, 2): 1}\n"
          ]
        }
      ]
    }
  ]
}